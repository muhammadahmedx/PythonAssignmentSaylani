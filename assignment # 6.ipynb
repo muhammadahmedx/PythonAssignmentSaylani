{
 "cells": [
  {
   "cell_type": "markdown",
   "metadata": {},
   "source": [
    "**Question 1: Define Object Oriented Programming Language?**\n",
    "\n",
    "Object Oriented programming is a programming style which is associated with the concepts like class, object, Inheritance, Encapsulation, Abstraction, Polymorphism."
   ]
  },
  {
   "cell_type": "markdown",
   "metadata": {},
   "source": [
    "**Question 2: List down the Benefits of OOP?**\n",
    "\n",
    "It provides a clear modular structure for programs which makes it good for defining \n",
    "abstract datatypes in which implementation details are hidden.\n",
    "\n",
    "Objects can also be reused within an across applications.\n",
    "\n",
    "It makes software easier to maintain.\n",
    "\n",
    "Reuse also enables faster development.\n",
    "\n",
    "    "
   ]
  },
  {
   "cell_type": "markdown",
   "metadata": {},
   "source": [
    "**Question 3: Differentiate between function and method?**\n",
    "\n",
    "A function is actually written outside the class but when it is written inside a class it's called method.\n"
   ]
  },
  {
   "cell_type": "markdown",
   "metadata": {},
   "source": [
    "**Question 4: Define the following terms:**\n",
    "\n",
    "**1. Class :** A class is a template or blue print about a capability of what object can do.\n",
    "\n",
    "**2. Object :** An object is a specimen of a class\n",
    "\n",
    "**3. Attribute :** Attributes are data stored inside a class or instance and represent the state or quality of the class or instance. In short, attributes store information about the instance.\n",
    "\n",
    "**4. Behavior:** Behavior is the only way objects can do anything to themselves or have anything done to them."
   ]
  },
  {
   "cell_type": "code",
   "execution_count": 44,
   "metadata": {},
   "outputs": [
    {
     "name": "stdout",
     "output_type": "stream",
     "text": [
      "car name: corolla \n",
      "car price: 3500000 \n",
      "discounted price: 3150000.0\n"
     ]
    }
   ],
   "source": [
    "#Question 5:\n",
    "#Write a code in python in which create a class named it Car which\n",
    "#have 5 attributes such like (model, color and name etc.) and 3\n",
    "#methods. And create 5 object instance from that class.\n",
    "\n",
    "class car():\n",
    "    def __init__(self, name, model, color, price, safetyratings):\n",
    "        self.name = name\n",
    "        self.model = model\n",
    "        self.color = color\n",
    "        self.price = price\n",
    "        self.safetyratings = safetyratings\n",
    "    def discount(self, discount):\n",
    "        self.discout = discount\n",
    "        discount = self.price - (self.price * discount/100)\n",
    "        return discount\n",
    "    def warranty(self,warranty):\n",
    "        self.warranty = warranty\n",
    "        return str(warranty) + \" year warranty\"\n",
    "    def free_service(self, free_service):\n",
    "        self.free_service = free_service\n",
    "        return str(free_service) + \" times free sevice along with the warranty\"\n",
    "\n",
    "car1 = car(\"corolla\", 2019, \"white\", 3500000, \"5\")\n",
    "car2 = car(\"civic\", 2018, \"white\", 3000000, \"6\")\n",
    "car3 = car(\"bmw\", 2017, \"white\", 9900000, \"8\")\n",
    "car4 = car(\"mercedes\", 2016, \"white\", 9500000, \"9\")\n",
    "car5 = car(\"mehran\", 2015, \"white\", 700000, \"4\")\n",
    "car1.discount(10)\n",
    "car1.warranty(10)\n",
    "car1.free_service(5)\n",
    "print(\"car name: {} \\ncar price: {} \\ndiscounted price: {}\".format(car1.name, car1.price, car1.discount(10)))"
   ]
  }
 ],
 "metadata": {
  "kernelspec": {
   "display_name": "Python 3",
   "language": "python",
   "name": "python3"
  },
  "language_info": {
   "codemirror_mode": {
    "name": "ipython",
    "version": 3
   },
   "file_extension": ".py",
   "mimetype": "text/x-python",
   "name": "python",
   "nbconvert_exporter": "python",
   "pygments_lexer": "ipython3",
   "version": "3.7.4"
  }
 },
 "nbformat": 4,
 "nbformat_minor": 2
}
