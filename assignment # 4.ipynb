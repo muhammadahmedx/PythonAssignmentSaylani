{
 "cells": [
  {
   "cell_type": "code",
   "execution_count": 62,
   "metadata": {},
   "outputs": [
    {
     "name": "stdout",
     "output_type": "stream",
     "text": [
      "first_name : Ahmed\n",
      "last_name : Lakhani\n",
      "age : 24\n",
      "city : Karachi\n",
      "high academic level\n",
      "\n",
      "\n",
      "first_name : Ahmed\n",
      "last_name : Lakhani\n",
      "age : 24\n",
      "city : Karachi\n"
     ]
    }
   ],
   "source": [
    "#Question1:\n",
    "#Use a dictionary to store information about a person you know. Store their first name, last name, age,\n",
    "#and the city in which they live. You should have keys such as first_name, last_name, age, and city. Print\n",
    "#each piece of information stored in your dictionary. Add a new key value pair about qualification then\n",
    "#update the qualification value to high academic level then delete it.\n",
    "\n",
    "user_info = {\n",
    "    \"first_name\" : \"Ahmed\",\n",
    "    \"last_name\"  : \"Lakhani\",\n",
    "    \"age\": \"24\",\n",
    "    \"city\" : \"Karachi\"\n",
    "}\n",
    "for key,value in user_info.items():\n",
    "    print(key + \" : \" + value)\n",
    "\n",
    "user_info[\"qualification\"] = \"high academic level\"\n",
    "print(user_info[\"qualification\"])\n",
    "\n",
    "del user_info[\"qualification\"]\n",
    "print(\"\\n\")\n",
    "for key,value in user_info.items():\n",
    "    print(key + \" : \" + value)"
   ]
  },
  {
   "cell_type": "code",
   "execution_count": 99,
   "metadata": {},
   "outputs": [
    {
     "name": "stdout",
     "output_type": "stream",
     "text": [
      "Karachi is in Pakistan\n",
      "Its population is about 14.91m\n",
      "It is the Sixth largest city in the world by city population.\n",
      "\n",
      "Geneva is in Switzerland\n",
      "Its population is about 495,249\n",
      "Geneva is the second most populous city in Switzerland.\n",
      "\n",
      "Munich is in Germany\n",
      "Its population is about 1.4m\n",
      "There are over 60 beer gardens in Munich\n",
      "\n"
     ]
    }
   ],
   "source": [
    "#Question2:\n",
    "#Make a dictionary called cities. Use the names of three cities as keys in your dictionary. Create a\n",
    "#dictionary of information about each city and include the country that the city is in, its approximate\n",
    "#population, and one fact about that city. The keys for each city’s dictionary should be something like\n",
    "#country, population, and fact. Print the name of each city and all of the information you have stored\n",
    "#about it.\n",
    "\n",
    "cities = {\n",
    "    \"Karachi\" : {\n",
    "        \"country\" : \"Pakistan\",\n",
    "        \"population\" : \"14.91m\",\n",
    "        \"fact\" : \"It is the Sixth largest city in the world by city population.\",\n",
    "    },\n",
    "    \"Geneva\" : {\n",
    "        \"country\" : \"Switzerland\",\n",
    "        \"population\" : \"495,249\",\n",
    "        \"fact\" : \"Geneva is the second most populous city in Switzerland.\",\n",
    "    },\n",
    "    \"Munich\": {\n",
    "        \"country\" : \"Germany\",\n",
    "        \"population\" : \"1.4m\",\n",
    "        \"fact\" : \"There are over 60 beer gardens in Munich\",\n",
    "    }\n",
    "}\n",
    "\n",
    "for city, city_info in cities.items():\n",
    "    country = city_info[\"country\"]\n",
    "    population = city_info[\"population\"]\n",
    "    fact = city_info[\"fact\"]\n",
    "    \n",
    "    print(city +\" is in \"+ country)\n",
    "    print(\"Its population is about \"+ population)\n",
    "    print(fact + \"\\n\")"
   ]
  },
  {
   "cell_type": "code",
   "execution_count": 61,
   "metadata": {},
   "outputs": [
    {
     "name": "stdout",
     "output_type": "stream",
     "text": [
      "What is your age? 12\n",
      "The ticket is $10\n"
     ]
    }
   ],
   "source": [
    "#Question3:\n",
    "#A movie theater charges different ticket prices depending on a person’s age. If a person is under the age\n",
    "#of 3, the ticket is free; if they are between 3 and 12, the ticket is $10; and if they are over age 12, the\n",
    "#ticket is $15. Write a loop in which you ask users their age, and then tell them the cost of their movie\n",
    "#ticket.\n",
    "\n",
    "age = int(input(\"What is your age? \"))\n",
    "\n",
    "for x in range(0,1,2): # for empty for loop\n",
    "    pass\n",
    "if age < 3:\n",
    "    print(\"Ticket is free\")\n",
    "elif age >= 3 and age <= 12:\n",
    "    print(\"The ticket is $10\")\n",
    "elif age > 12:\n",
    "    print(\"The ticket is $15\")\n",
    "\n",
    "\n",
    "    "
   ]
  },
  {
   "cell_type": "code",
   "execution_count": 73,
   "metadata": {},
   "outputs": [
    {
     "name": "stdout",
     "output_type": "stream",
     "text": [
      "One of my favorite books is Alice in Wonderland\n"
     ]
    }
   ],
   "source": [
    "#Question4:\n",
    "#Write a function called favorite_book() that accepts one parameter, title. The function should print a\n",
    "#message, such as One of my favorite books is Alice in Wonderland. Call the function, making sure to\n",
    "#include a book title as an argument in the function call.\n",
    "\n",
    "def favorite_book(book_title):\n",
    "    print(\"One of my favorite books is \"+ book_title)\n",
    "\n",
    "favorite_book(\"Alice in Wonderland\")"
   ]
  },
  {
   "cell_type": "code",
   "execution_count": 90,
   "metadata": {},
   "outputs": [
    {
     "name": "stdout",
     "output_type": "stream",
     "text": [
      "Welcome to Guess the number game.\n",
      "\n",
      "Hello! I am thinking of a number between 1 and 30.\n",
      "Take a guess.\n",
      "25\n",
      "Your guess is too high.\n",
      "Take a guess.\n",
      "15\n",
      "Your guess is too low.\n",
      "Take a guess.\n",
      "20\n",
      "Your guess is too low.\n",
      "Nope. The number I was thinking of was 23\n"
     ]
    }
   ],
   "source": [
    "#Question5:\n",
    "#Guess the number game\n",
    "#Write a program which randomly generate a number between 1 to 30 and ask the user in input field to\n",
    "#guess the correct number. Give three chances to user guess the number and also give hint to user if\n",
    "#hidden number is greater or smaller than the number he given to input field.\n",
    "\n",
    "import random\n",
    "guessesTaken = 0\n",
    "\n",
    "number = random.randint(1, 30)\n",
    "\n",
    "print(\"Welcome to Guess the number game.\\n\")\n",
    "print('Hello! I am thinking of a number between 1 and 30.')\n",
    "\n",
    "while guessesTaken < 3:\n",
    "    print(\"Take a guess.\") \n",
    "    guess = input()\n",
    "    guess = int(guess)\n",
    "    guessesTaken = guessesTaken + 1\n",
    "    if guess < number:\n",
    "        print(\"Your guess is too low.\") \n",
    "    if guess > number:\n",
    "        print(\"Your guess is too high.\")\n",
    "    if guess == number:\n",
    "        break\n",
    "\n",
    "if guess == number:\n",
    "    guessesTaken = str(guessesTaken)\n",
    "    print(\"Good job, You guessed my number in ' + guessesTaken + ' guesses!\")\n",
    "if guess != number:\n",
    "    number = str(number)\n",
    "    print(\"Nope. The number I was thinking of was \" + number)"
   ]
  }
 ],
 "metadata": {
  "kernelspec": {
   "display_name": "Python 3",
   "language": "python",
   "name": "python3"
  },
  "language_info": {
   "codemirror_mode": {
    "name": "ipython",
    "version": 3
   },
   "file_extension": ".py",
   "mimetype": "text/x-python",
   "name": "python",
   "nbconvert_exporter": "python",
   "pygments_lexer": "ipython3",
   "version": "3.7.4"
  }
 },
 "nbformat": 4,
 "nbformat_minor": 2
}
