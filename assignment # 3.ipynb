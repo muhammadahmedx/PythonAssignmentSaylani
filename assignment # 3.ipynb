{
 "cells": [
  {
   "cell_type": "code",
   "execution_count": 2,
   "metadata": {},
   "outputs": [
    {
     "name": "stdout",
     "output_type": "stream",
     "text": [
      "Enter first number 5\n",
      "Enter operators like + - * / ^  ^\n",
      "Enter second number 2\n",
      "The answer is  25.0\n"
     ]
    }
   ],
   "source": [
    "# Question # 1\n",
    "# Make a calculator using Python with addition , subtraction , multiplication ,\n",
    "# division and power.\n",
    "\n",
    "num1 = float(input(\"Enter first number \"))\n",
    "operators = input(\"Enter operators like + - * / ^  \")\n",
    "num2 = float(input(\"Enter second number \"))\n",
    "if operators == \"+\":\n",
    "    print(\"The sum is \",num1 + num2)\n",
    "elif operators == \"-\":\n",
    "    print(\"The difference is \", num1 - num2)\n",
    "elif operators == \"*\":\n",
    "    print(\"The product is \", num1 * num2)\n",
    "elif operators == \"/\":\n",
    "    print(\"The quotient is \", num1 / num2)\n",
    "elif operators == \"^\":\n",
    "    print(\"The answer is \", num1 ** num2)\n",
    "else:\n",
    "    print(\"error\")"
   ]
  },
  {
   "cell_type": "code",
   "execution_count": 3,
   "metadata": {},
   "outputs": [
    {
     "name": "stdout",
     "output_type": "stream",
     "text": [
      "Numeric values are 1\n",
      "Numeric values are 2\n",
      "Numeric values are 3\n",
      "Numeric values are 5\n",
      "Numeric values are 7\n",
      "Numeric values are 9\n"
     ]
    }
   ],
   "source": [
    "# Question # 2\n",
    "# Write a program to check if there is any numeric value in list using for loop\n",
    "list = [\"a\", 1, 2, \"3\", \"alh\", \"5\", 7, 9]\n",
    "\n",
    "for check_numeric in list:\n",
    "    check_numeric = str(check_numeric)\n",
    "    if check_numeric.isnumeric() == True:\n",
    "        print(\"Numeric values are\", check_numeric)\n",
    "        "
   ]
  },
  {
   "cell_type": "code",
   "execution_count": 4,
   "metadata": {},
   "outputs": [
    {
     "name": "stdout",
     "output_type": "stream",
     "text": [
      "{0: 10, 1: 20}\n",
      "{0: 10, 1: 20, 2: 30}\n"
     ]
    }
   ],
   "source": [
    "# Question # 3\n",
    "# Write a Python script to add a key to a dictionary\n",
    "dic = {0:10, 1:20}\n",
    "print(dic)\n",
    "dic.update({2:30})\n",
    "print(dic)"
   ]
  },
  {
   "cell_type": "code",
   "execution_count": 5,
   "metadata": {},
   "outputs": [
    {
     "name": "stdout",
     "output_type": "stream",
     "text": [
      "{40, 10, 80, 50, 20, 60, 30}\n"
     ]
    }
   ],
   "source": [
    "# Question # 4\n",
    "# Write a program to identify duplicate values from list\n",
    "a = [10,20,30,20,10,50,60,40,80,50,40]\n",
    "\n",
    "dup_items = set()\n",
    "uniq_items = []\n",
    "for x in a:\n",
    "    if x not in dup_items:\n",
    "        uniq_items.append(x)\n",
    "        dup_items.add(x)\n",
    "\n",
    "print(dup_items)"
   ]
  },
  {
   "cell_type": "code",
   "execution_count": 7,
   "metadata": {},
   "outputs": [
    {
     "name": "stdout",
     "output_type": "stream",
     "text": [
      "293\n"
     ]
    }
   ],
   "source": [
    "# Question # 5\n",
    "# Write a Python program to sum all the numeric items in a dictionary\n",
    "my_dict = {'data1':100,'data2':-54,'data3':247}\n",
    "print(sum(my_dict.values()))"
   ]
  },
  {
   "cell_type": "code",
   "execution_count": 8,
   "metadata": {},
   "outputs": [
    {
     "name": "stdout",
     "output_type": "stream",
     "text": [
      "Key is present in the dictionary\n",
      "Key is not present in the dictionary\n"
     ]
    }
   ],
   "source": [
    "# Question # 6\n",
    "# Write a Python script to check if a given key already exists in a dictionary\n",
    "d = {1: 10, 2: 20, 3: 30, 4: 40, 5: 50, 6: 60}\n",
    "def is_key_present(x):\n",
    "  if x in d:\n",
    "      print('Key is present in the dictionary')\n",
    "  else:\n",
    "      print('Key is not present in the dictionary')\n",
    "is_key_present(5)\n",
    "is_key_present(9)"
   ]
  },
  {
   "cell_type": "code",
   "execution_count": null,
   "metadata": {},
   "outputs": [],
   "source": []
  }
 ],
 "metadata": {
  "kernelspec": {
   "display_name": "Python 3",
   "language": "python",
   "name": "python3"
  },
  "language_info": {
   "codemirror_mode": {
    "name": "ipython",
    "version": 3
   },
   "file_extension": ".py",
   "mimetype": "text/x-python",
   "name": "python",
   "nbconvert_exporter": "python",
   "pygments_lexer": "ipython3",
   "version": "3.7.4"
  }
 },
 "nbformat": 4,
 "nbformat_minor": 2
}
