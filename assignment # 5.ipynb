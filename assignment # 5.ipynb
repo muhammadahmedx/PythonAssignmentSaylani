{
 "cells": [
  {
   "cell_type": "code",
   "execution_count": 12,
   "metadata": {},
   "outputs": [
    {
     "name": "stdout",
     "output_type": "stream",
     "text": [
      "24\n"
     ]
    }
   ],
   "source": [
    "#Question:1\n",
    "#Write a Python function to calculate the factorial of a number (a non-negative\n",
    "#integer). The function accepts the number as an argument.\n",
    "\n",
    "def factorial(n):\n",
    "    if n == 0:\n",
    "        return 1\n",
    "    else:\n",
    "        return n * factorial(n-1)\n",
    "print(factorial(4))"
   ]
  },
  {
   "cell_type": "code",
   "execution_count": 13,
   "metadata": {},
   "outputs": [
    {
     "name": "stdout",
     "output_type": "stream",
     "text": [
      "Lower case letters : 9\n",
      "upper case letters : 3\n"
     ]
    }
   ],
   "source": [
    "#Question:2\n",
    "#Write a Python function that accepts a string and calculate the number of upper\n",
    "#case letters and lower case letters.\n",
    "\n",
    "def check_text(text):\n",
    "    lower_case = 0\n",
    "    upper_case = 0\n",
    "    for check in text:\n",
    "        if check.isupper():\n",
    "            upper_case += 1\n",
    "        elif check.islower():\n",
    "            lower_case +=1\n",
    "    print(\"Lower case letters : \"+ str(lower_case))\n",
    "    print(\"upper case letters : \"+ str(upper_case))\n",
    "\n",
    "check_text(\"My Name is Khan\")"
   ]
  },
  {
   "cell_type": "code",
   "execution_count": 14,
   "metadata": {},
   "outputs": [
    {
     "name": "stdout",
     "output_type": "stream",
     "text": [
      "2\n",
      "4\n",
      "6\n",
      "8\n",
      "10\n"
     ]
    }
   ],
   "source": [
    "#Question:3\n",
    "#Write a Python function to print the even numbers from a given list.\n",
    "\n",
    "num = [1,2,3,4,5,6,7,8,9,10]\n",
    "def even_numbers(list):\n",
    "    for check in list:\n",
    "        if check % 2 == 0:\n",
    "            print(check)\n",
    "    \n",
    "       \n",
    "        \n",
    "even_numbers(num)"
   ]
  },
  {
   "cell_type": "code",
   "execution_count": 15,
   "metadata": {},
   "outputs": [
    {
     "name": "stdout",
     "output_type": "stream",
     "text": [
      "Yes madam is palindrome\n"
     ]
    }
   ],
   "source": [
    "#Question:4\n",
    "#Write a Python function that checks whether a passed string is palindrome or not.\n",
    "#Note: A palindrome is a word, phrase, or sequence that reads the same\n",
    "#backward as forward, e.g., madam\n",
    "\n",
    "def palindrome(word):\n",
    "    w = \"\"\n",
    "    for i in word:\n",
    "        w = i + w\n",
    "        if word == w:\n",
    "            print(\"Yes \"+ word + \" is palindrome\")\n",
    "        \n",
    "      \n",
    "palindrome(\"madam\")  "
   ]
  },
  {
   "cell_type": "code",
   "execution_count": 16,
   "metadata": {},
   "outputs": [
    {
     "name": "stdout",
     "output_type": "stream",
     "text": [
      "7 is a prime number\n"
     ]
    }
   ],
   "source": [
    "#Question:5\n",
    "#Write a Python function that takes a number as a parameter and check the\n",
    "#number is prime or not.\n",
    "\n",
    "def check_prime(num):\n",
    "    if (num==1):\n",
    "        return str(num) + \" is not a prime number\"\n",
    "    elif (num==2):\n",
    "        return str(num) + \" is a prime number\"\n",
    "    else:\n",
    "        for x in range(2,num):\n",
    "            if(num % x == 0):\n",
    "                return str(num) + \" is not a prime number\"\n",
    "        return str(num) + \" is a prime number\"\n",
    "        \n",
    "                  \n",
    "print(check_prime(7))"
   ]
  },
  {
   "cell_type": "code",
   "execution_count": 17,
   "metadata": {},
   "outputs": [
    {
     "name": "stdout",
     "output_type": "stream",
     "text": [
      "fish\n",
      "cooking oil\n",
      "apples\n",
      "potato\n"
     ]
    }
   ],
   "source": [
    "#Question: 6\n",
    "#Suppose a customer is shopping in a market and you need to print all the items\n",
    "#which user bought from market.\n",
    "#Write a function which accepts the multiple arguments of user shopping list and\n",
    "#print all the items which user bought from market.\n",
    "#(Hint: Arbitrary Argument concept can make this task ease)\n",
    "\n",
    "def market(**everything):\n",
    "    for key, value in everything.items():\n",
    "          print(value)  \n",
    "market(firstitem = \"fish\", seconditem = \"cooking oil\", thirditem = \"apples\", fourthitem = \"potato\")"
   ]
  }
 ],
 "metadata": {
  "kernelspec": {
   "display_name": "Python 3",
   "language": "python",
   "name": "python3"
  },
  "language_info": {
   "codemirror_mode": {
    "name": "ipython",
    "version": 3
   },
   "file_extension": ".py",
   "mimetype": "text/x-python",
   "name": "python",
   "nbconvert_exporter": "python",
   "pygments_lexer": "ipython3",
   "version": "3.7.4"
  }
 },
 "nbformat": 4,
 "nbformat_minor": 2
}
