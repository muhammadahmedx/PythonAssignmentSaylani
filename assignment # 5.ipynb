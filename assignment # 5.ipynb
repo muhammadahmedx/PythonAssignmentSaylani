{
 "cells": [
  {
   "cell_type": "code",
   "execution_count": 7,
   "metadata": {},
   "outputs": [
    {
     "name": "stdout",
     "output_type": "stream",
     "text": [
      "Enter your firstname: mike\n",
      "Enter your lastname: tyson\n",
      "Tyson Mike\n"
     ]
    }
   ],
   "source": [
    "firstname = input(\"Enter your firstname: \")\n",
    "lastname = input(\"Enter your lastname: \")\n",
    "print(lastname.title() + \" \" + firstname.title())"
   ]
  },
  {
   "cell_type": "code",
   "execution_count": null,
   "metadata": {},
   "outputs": [],
   "source": []
  }
 ],
 "metadata": {
  "kernelspec": {
   "display_name": "Python 3",
   "language": "python",
   "name": "python3"
  },
  "language_info": {
   "codemirror_mode": {
    "name": "ipython",
    "version": 3
   },
   "file_extension": ".py",
   "mimetype": "text/x-python",
   "name": "python",
   "nbconvert_exporter": "python",
   "pygments_lexer": "ipython3",
   "version": "3.7.4"
  }
 },
 "nbformat": 4,
 "nbformat_minor": 2
}
