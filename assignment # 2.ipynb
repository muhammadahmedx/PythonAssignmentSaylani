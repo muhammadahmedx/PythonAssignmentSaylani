{
 "cells": [
  {
   "cell_type": "code",
   "execution_count": 19,
   "metadata": {},
   "outputs": [
    {
     "name": "stdout",
     "output_type": "stream",
     "text": [
      "Enter your marks out of 100\n",
      "Marks in english?50\n",
      "Marks in maths?60\n",
      "Marks in pst?70\n",
      "Marks in isl?80\n",
      "Marks in urdu?90\n",
      "per: 70.0 % Grade: A\n"
     ]
    }
   ],
   "source": [
    "# Question No. 1\n",
    "# Write a program which takes 5 inputs from user for different subject’s\n",
    "# marks, total it and generate mark sheet using grades ?\n",
    "\n",
    "print(\"Enter your marks out of 100\")\n",
    "English_Marks = float(input(\"Marks in english?\"))\n",
    "Maths_Marks = float(input(\"Marks in maths?\"))\n",
    "Pst_Marks = float(input(\"Marks in pst?\"))\n",
    "isl_Marks = float(input(\"Marks in isl?\"))\n",
    "urdu_Marks = float(input(\"Marks in urdu?\"))\n",
    "obt_marks = English_Marks + Maths_Marks + Pst_Marks + isl_Marks + urdu_Marks\n",
    "total_marks = 500\n",
    "per = (obt_marks / total_marks) * 100\n",
    "if per >= 80:\n",
    "    print(\"per:\",per,\"%\",\"Grade: A+\")\n",
    "elif per >= 70 and per <= 80:\n",
    "    print(\"per:\",per,\"%\",\"Grade: A\")\n",
    "elif per >= 60 and per <= 70:\n",
    "    print(\"per:\",per,\"%\",\"Grade: B\")\n",
    "elif per >= 50 and per <= 60:\n",
    "    print(\"per:\",per,\"%\",\"Grade: C\")\n",
    "elif per >= 40 and per <= 50:\n",
    "    print(\"per:\",per,\"%\",\"Grade: D\")\n",
    "elif per < 40:\n",
    "    print(\"per:\",per,\"%\",\"Grade: Fail\")\n",
    "else:\n",
    "    print(\"Error\")    "
   ]
  },
  {
   "cell_type": "code",
   "execution_count": 32,
   "metadata": {},
   "outputs": [
    {
     "name": "stdout",
     "output_type": "stream",
     "text": [
      "Enter number 5\n",
      "The given number is odd\n"
     ]
    }
   ],
   "source": [
    "# Question No. 2\n",
    "# Write a program which take input from user and identify that the given number is even or odd?\n",
    "\n",
    "check_evenodd = int(input(\"Enter number \"))\n",
    "remainder = check_evenodd % 2\n",
    "if(remainder == 0):\n",
    "    print(\"The given number is even\")\n",
    "else:\n",
    "    print(\"The given number is odd\")"
   ]
  },
  {
   "cell_type": "code",
   "execution_count": 43,
   "metadata": {},
   "outputs": [
    {
     "name": "stdout",
     "output_type": "stream",
     "text": [
      "Length of the list is 7\n"
     ]
    }
   ],
   "source": [
    "# Question No. 3\n",
    "# Write a program which print the length of the list?\n",
    "\n",
    "list = [0, 1, 2, 3, 4, 5, 6]\n",
    "print(\"Length of the list is\", len(list))"
   ]
  },
  {
   "cell_type": "code",
   "execution_count": 46,
   "metadata": {},
   "outputs": [
    {
     "name": "stdout",
     "output_type": "stream",
     "text": [
      "Sum of the list is 21\n"
     ]
    }
   ],
   "source": [
    "# Question No. 4\n",
    "#Write a Python program to sum all the numeric items in a list?\n",
    "\n",
    "list = [0, 1, 2, 3, 4, 5, 6]\n",
    "print(\"Sum of the list is\", sum(list))"
   ]
  },
  {
   "cell_type": "code",
   "execution_count": 50,
   "metadata": {},
   "outputs": [
    {
     "name": "stdout",
     "output_type": "stream",
     "text": [
      "Largest number of the list is 20\n"
     ]
    }
   ],
   "source": [
    "# Question No. 5\n",
    "# Write a Python program to get the largest number from a numeric list.\n",
    "\n",
    "list = [0, 20, 1, 2, 3, 4, 5, 6]\n",
    "print(\"Largest number of the list is\", max(list))"
   ]
  },
  {
   "cell_type": "code",
   "execution_count": 57,
   "metadata": {},
   "outputs": [
    {
     "name": "stdout",
     "output_type": "stream",
     "text": [
      "1\n",
      "1\n",
      "2\n",
      "3\n"
     ]
    }
   ],
   "source": [
    "# Question No. 6\n",
    "# Take a list, say for example this one:\n",
    "# a = [1, 1, 2, 3, 5, 8, 13, 21, 34, 55, 89]\n",
    "# and write a program that prints out all the elements of the list that are less than 5.\n",
    "\n",
    "a = [1, 1, 2, 3, 5, 8, 13, 21, 34, 55, 89]\n",
    "for num in a:\n",
    "    if num < 5:\n",
    "        print(num)"
   ]
  }
 ],
 "metadata": {
  "kernelspec": {
   "display_name": "Python 3",
   "language": "python",
   "name": "python3"
  },
  "language_info": {
   "codemirror_mode": {
    "name": "ipython",
    "version": 3
   },
   "file_extension": ".py",
   "mimetype": "text/x-python",
   "name": "python",
   "nbconvert_exporter": "python",
   "pygments_lexer": "ipython3",
   "version": "3.7.4"
  }
 },
 "nbformat": 4,
 "nbformat_minor": 2
}
